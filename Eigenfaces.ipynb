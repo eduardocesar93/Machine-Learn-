{
 "cells": [
  {
   "cell_type": "code",
   "execution_count": 266,
   "metadata": {
    "collapsed": false
   },
   "outputs": [],
   "source": [
    "import re\n",
    "import numpy\n",
    "import matplotlib.pyplot as plt\n",
    "from sklearn.decomposition import PCA\n",
    "\n",
    "#ler um pgm\n",
    "def read_pgm(filename, byteorder='>'):\n",
    "    with open(filename, 'rb') as f:\n",
    "        buffer = f.read()\n",
    "    try:\n",
    "        header, width, height, maxval = re.search(\n",
    "            b\"(^P5\\s(?:\\s*#.*[\\r\\n])*\"\n",
    "            b\"(\\d+)\\s(?:\\s*#.*[\\r\\n])*\"\n",
    "            b\"(\\d+)\\s(?:\\s*#.*[\\r\\n])*\"\n",
    "            b\"(\\d+)\\s(?:\\s*#.*[\\r\\n]\\s)*)\", buffer).groups()\n",
    "    except AttributeError:\n",
    "        raise ValueError(\"Not a raw PGM file: '%s'\" % filename)\n",
    "    return numpy.frombuffer(buffer,\n",
    "                            dtype='u1' if int(maxval) < 256 else byteorder+'u2',\n",
    "                            count=int(width)*int(height),\n",
    "                            offset=len(header)\n",
    "                            ).reshape((int(height), int(width)))\n",
    "\n",
    "# Plotar um rosto \n",
    "def plotar_rosto(rosto):\n",
    "    rosto = np.resize(rosto, (112, 92))\n",
    "    plt.imshow(rosto, plt.cm.gray)\n",
    "    plt.show()\n",
    "\n",
    "def plotar_rosto_save(rosto, name):\n",
    "    fig = plt.figure()\n",
    "    rosto = np.resize(rosto, (112, 92))\n",
    "    plt.imshow(rosto, plt.cm.gray)\n",
    "    fig.savefig(name + '.jpg')\n",
    "    \n",
    "# PCA\n",
    "def PCA_algoritmo(treino, n_componentes):\n",
    "    pca = PCA(n_components=n_componentes) # número de componentes escolhido\n",
    "    pca.fit(treino)\n",
    "    componentes = pca.components_ \n",
    "    treinocomp = pca.transform(treino) \n",
    "    return componentes, treinocomp"
   ]
  },
  {
   "cell_type": "code",
   "execution_count": 236,
   "metadata": {
    "collapsed": false
   },
   "outputs": [],
   "source": [
    "# Separação em Treino e Teste \n",
    "teste = []\n",
    "treino = []\n",
    "total = []\n",
    "for pessoa in range(40):\n",
    "    for foto in range(10):\n",
    "        if foto < 7:\n",
    "            treino += [np.resize(read_pgm(\"s{0}/{1}.pgm\".format(pessoa+1, foto+1)), 112*92)]\n",
    "        else:\n",
    "            teste += [np.resize(read_pgm(\"s{0}/{1}.pgm\".format(pessoa+1, foto+1)), 112*92)]\n",
    "total = teste + treino\n"
   ]
  },
  {
   "cell_type": "code",
   "execution_count": 237,
   "metadata": {
    "collapsed": false
   },
   "outputs": [],
   "source": [
    "componentes, treinocomp = PCA_algoritmo(treino, 20)"
   ]
  },
  {
   "cell_type": "code",
   "execution_count": 238,
   "metadata": {
    "collapsed": false
   },
   "outputs": [],
   "source": [
    "# Obtenção do rosto a partir das componentes\n",
    "def obterrosto(i, componentes, treinocomp):\n",
    "    rosto = None\n",
    "    for j in range(len(componentes)):\n",
    "        if j == 0:\n",
    "            rosto = treinocomp[i][j]*componentes[j]\n",
    "        else:\n",
    "            rosto = np.sum([rosto, treinocomp[i][j]*componentes[j]], axis=0)\n",
    "    return rosto"
   ]
  },
  {
   "cell_type": "code",
   "execution_count": 241,
   "metadata": {
    "collapsed": false
   },
   "outputs": [],
   "source": [
    "plotar_rosto(obterrosto(10, componentes, treinocomp))\n",
    "plotar_rosto(treino[10])"
   ]
  },
  {
   "cell_type": "code",
   "execution_count": 242,
   "metadata": {
    "collapsed": false
   },
   "outputs": [],
   "source": [
    "def erro_quadratico(x, y):\n",
    "    erro = 0\n",
    "    for i in range(len(x)):\n",
    "        erro += (x[i] - y[i])**2\n",
    "    return erro\n",
    "\n",
    "def var_erro(n_componentes):\n",
    "    componentes, treinocomp = PCA_algoritmo(treino, n_componentes)\n",
    "    erros = []\n",
    "    for i in range(len(teste)):\n",
    "        erros += [erro_quadratico(obterrosto(i, componentes, treinocomp), treino[i])]\n",
    "    return np.var(erros)"
   ]
  },
  {
   "cell_type": "code",
   "execution_count": 256,
   "metadata": {
    "collapsed": false
   },
   "outputs": [],
   "source": [
    "# Plot da variância\n",
    "x = []\n",
    "y = []\n",
    "for i in range(0, 30):\n",
    "    x += [i+1]\n",
    "    y += [var_erro(i+1)]\n",
    "fig = plt.figure()\n",
    "plt.plot(x, y, '-k')\n",
    "plt.ylabel('Variância do erro Quadrático')\n",
    "plt.xlabel('Componentes', fontsize=14)\n",
    "fig.savefig('test.jpg')\n",
    "plt.show()"
   ]
  },
  {
   "cell_type": "code",
   "execution_count": 267,
   "metadata": {
    "collapsed": false
   },
   "outputs": [
    {
     "name": "stderr",
     "output_type": "stream",
     "text": [
      "C:\\Users\\eduar\\Anaconda3\\lib\\site-packages\\matplotlib\\pyplot.py:516: RuntimeWarning: More than 20 figures have been opened. Figures created through the pyplot interface (`matplotlib.pyplot.figure`) are retained until explicitly closed and may consume too much memory. (To control this warning, see the rcParam `figure.max_open_warning`).\n",
      "  max_open_warning, RuntimeWarning)\n"
     ]
    }
   ],
   "source": [
    "for i in range (5, 40):\n",
    "    componentes, treinocomp = PCA_algoritmo(treino, i)\n",
    "    rosto = obterrosto(0, componentes, treinocomp)\n",
    "    plotar_rosto_save(rosto, 'rosto-' + str(i+1))\n",
    "plotar_rosto_save(teste[0], 'rosto-correto')"
   ]
  },
  {
   "cell_type": "code",
   "execution_count": null,
   "metadata": {
    "collapsed": true
   },
   "outputs": [],
   "source": []
  }
 ],
 "metadata": {
  "kernelspec": {
   "display_name": "Python [Root]",
   "language": "python",
   "name": "Python [Root]"
  },
  "language_info": {
   "codemirror_mode": {
    "name": "ipython",
    "version": 3
   },
   "file_extension": ".py",
   "mimetype": "text/x-python",
   "name": "python",
   "nbconvert_exporter": "python",
   "pygments_lexer": "ipython3",
   "version": "3.5.2"
  }
 },
 "nbformat": 4,
 "nbformat_minor": 0
}
